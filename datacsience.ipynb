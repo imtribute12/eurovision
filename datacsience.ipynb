{
 "cells": [
  {
   "cell_type": "code",
   "execution_count": 5,
   "metadata": {},
   "outputs": [],
   "source": [
    "import pandas as pd\n",
    "import numpy as np\n",
    "from sklearn.linear_model import LinearRegression\n",
    "from sklearn.model_selection import train_test_split\n",
    "\n",
    "df1 = pd.read_csv('general_lyrics.csv')\n",
    "df2 = pd.read_csv('eurovision.csv')\n",
    "\n",
    "df = pd.merge(df1, df2, on='common_key')\n",
    "\n",
    "X = df[['Views']].values\n",
    "y = df[['rank']].values\n",
    "\n",
    "X_train, X_test, y_train, y_test = train_test_split(X, y, test_size=0.2, random_state=42)\n",
    "\n",
    "model = LinearRegression()\n",
    "model.fit(X_train, y_train)\n",
    "\n",
    "y_pred = model.predict(X_test)\n",
    "y_pred"
   ]
  },
  {
   "cell_type": "code",
   "execution_count": null,
   "metadata": {},
   "outputs": [],
   "source": [
    "mlr_diff = pd.DataFrame({'Actual value': y_test, 'Predicted value': y_pred, 'Difference': abs(y_test-y_pred)})\n",
    "mlr_diff.sort_values(by='Difference')"
   ]
  },
  {
   "cell_type": "code",
   "execution_count": null,
   "metadata": {},
   "outputs": [],
   "source": [
    "from sklearn.metrics import r2_score\n",
    "from sklearn.metrics import mean_squared_error\n",
    "score=r2_score(y_test,y_pred)\n",
    "print(\"r2 score is\",score)\n",
    "print(\"mean_sqrd_error is==\",mean_squared_error(y_test,y_pred))\n",
    "print(\"root_mean_squared error of is==\",np.sqrt(mean_squared_error(y_test,y_pred)))"
   ]
  },
  {
   "cell_type": "code",
   "execution_count": null,
   "metadata": {},
   "outputs": [],
   "source": [
    "import seaborn as sns\n",
    "cor = X_train.corr()\n",
    "sns.heatmap(cor, mask=np.zeros_like(cor, dtype=np.bool), cmap=sns.diverging_palette(300, 30, as_cmap=True), square=True);"
   ]
  },
  {
   "cell_type": "code",
   "execution_count": null,
   "metadata": {},
   "outputs": [],
   "source": [
    "model.score(X_train.values, y_train)"
   ]
  },
  {
   "cell_type": "code",
   "execution_count": null,
   "metadata": {},
   "outputs": [],
   "source": [
    "model.score(X_test.values, y_test)"
   ]
  },
  {
   "cell_type": "code",
   "execution_count": null,
   "metadata": {},
   "outputs": [],
   "source": [
    "df_forest=df"
   ]
  },
  {
   "cell_type": "code",
   "execution_count": null,
   "metadata": {},
   "outputs": [],
   "source": [
    "def popular(column):    \n",
    "    if column['Views'] >= 3000000:\n",
    "        return 'Unforgettable'\n",
    "    if (column['Views'] < 2999999) & (column['Views'] > 3000000):\n",
    "        return 'Quite Popular'\n",
    "    if (column['Views'] < 2999999) & (column['Views'] >1000000):\n",
    "        return 'Popular' \n",
    "    if column['Views'] < 999999:\n",
    "        return 'Only Winner' \n",
    "df_forest['Popular'] = df_forest.apply(lambda column: popular(column), axis=1)"
   ]
  },
  {
   "cell_type": "code",
   "execution_count": null,
   "metadata": {},
   "outputs": [],
   "source": [
    "popularity=df_forest['Popular'].value_counts()\n",
    "popularity"
   ]
  },
  {
   "cell_type": "code",
   "execution_count": null,
   "metadata": {},
   "outputs": [],
   "source": [
    "from sklearn.model_selection import train_test_split\n",
    "y=df_forest['Popular']\n",
    "X = df_forest.drop('Popular',axis=1)\n",
    "X = X.drop('Views',axis=1)\n",
    "X_train, X_test, y_train, y_test = train_test_split(X, y, test_size = 0.2, random_state = 42)"
   ]
  },
  {
   "cell_type": "code",
   "execution_count": null,
   "metadata": {},
   "outputs": [],
   "source": [
    "from sklearn.ensemble import RandomForestClassifier as RFC\n",
    "RandomFrst = RFC()\n",
    "RandomFrst.fit(X_train.values,y_train)\n",
    "y_predict=RandomFrst.predict(X_test.values)\n",
    "print(y_predict)"
   ]
  },
  {
   "cell_type": "code",
   "execution_count": null,
   "metadata": {},
   "outputs": [],
   "source": [
    "from sklearn import metrics\n",
    "print(\"Accuracy:\",metrics.accuracy_score(y_test, y_predict)*100)"
   ]
  },
  {
   "cell_type": "code",
   "execution_count": null,
   "metadata": {},
   "outputs": [],
   "source": [
    "from sklearn.tree import export_graphviz\n",
    "import pydotplus\n",
    "import graphviz\n",
    "estimator = RandomFrst.estimators_[1]\n",
    "dot_data=export_graphviz(estimator, \n",
    "                feature_names = [\"Title\",\"Published_date\",\"Views\"],\n",
    "                class_names = ['Quite Popular','Popular','Unforgettable','Only Winner'],\n",
    "                rounded = True, proportion = False, \n",
    "                precision = 2, filled = True,special_characters=True)\n",
    "graph = pydotplus.graph_from_dot_data(dot_data)\n",
    "graph.set_size('\"100,400!\"')\n",
    "graph.write_png('resized_tree.png')\n",
    "from IPython.display import Image\n",
    "Image(filename='resized_tree.png') "
   ]
  }
 ],
 "metadata": {
  "kernelspec": {
   "display_name": "base",
   "language": "python",
   "name": "python3"
  },
  "language_info": {
   "codemirror_mode": {
    "name": "ipython",
    "version": 3
   },
   "file_extension": ".py",
   "mimetype": "text/x-python",
   "name": "python",
   "nbconvert_exporter": "python",
   "pygments_lexer": "ipython3",
   "version": "3.9.13 (main, Aug 25 2022, 23:51:50) [MSC v.1916 64 bit (AMD64)]"
  },
  "orig_nbformat": 4,
  "vscode": {
   "interpreter": {
    "hash": "cfed3025dcc104b15da879f082782ad83637079c941456c63c9e310ca7ea8aec"
   }
  }
 },
 "nbformat": 4,
 "nbformat_minor": 2
}
